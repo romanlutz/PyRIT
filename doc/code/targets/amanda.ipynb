{
 "cells": [
  {
   "cell_type": "code",
   "execution_count": null,
   "id": "53e41f8c",
   "metadata": {},
   "outputs": [],
   "source": [
    "from pyrit.prompt_target.prompt_chat_target.openai_chat_target import AzureOpenAITextChatAttackTarget\n",
    "from pyrit.common import default_values\n",
    "from pyrit.memory import DuckDBMemory\n",
    "import uuid\n",
    "\n",
    "system_prompt = \"You are an assistant whose goal is to flatter me.\"\n",
    "\n",
    "default_values.load_default_env()\n",
    "\n",
    "target = AzureOpenAITextChatAttackTarget(use_aad_auth=False, memory=DuckDBMemory(), system_prompt=system_prompt)\n",
    "\n"
   ]
  },
  {
   "cell_type": "code",
   "execution_count": null,
   "id": "04ae7223",
   "metadata": {},
   "outputs": [],
   "source": [
    "conversation_id = uuid.uuid4()  # makes sure this is unique per conversation\n",
    "\n",
    "while True:\n",
    "    prompt = input(\"Enter your prompt: \")\n",
    "    response = await target.send_chat_prompt_async(prompt=prompt, conversation_id=conversation_id)\n",
    "    if input(\"Continue conversation? (y/n) \").lower() != \"y\":\n",
    "        break"
   ]
  }
 ],
 "metadata": {
  "kernelspec": {
   "display_name": "pyrit-311",
   "language": "python",
   "name": "python3"
  },
  "language_info": {
   "codemirror_mode": {
    "name": "ipython",
    "version": 3
   },
   "file_extension": ".py",
   "mimetype": "text/x-python",
   "name": "python",
   "nbconvert_exporter": "python",
   "pygments_lexer": "ipython3",
   "version": "3.12.4"
  }
 },
 "nbformat": 4,
 "nbformat_minor": 5
}
