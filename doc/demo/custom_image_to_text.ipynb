{
 "cells": [
  {
   "cell_type": "markdown",
   "id": "2e0b8140",
   "metadata": {},
   "source": [
    "Please install the pyrit version from the first cell. That only needs to be run once."
   ]
  },
  {
   "cell_type": "code",
   "execution_count": null,
   "id": "c4142124",
   "metadata": {},
   "outputs": [],
   "source": [
    "# pip install pyrit==<insert commit hash>"
   ]
  },
  {
   "cell_type": "markdown",
   "id": "d4973fac",
   "metadata": {},
   "source": [
    "Either change the folder_path below or put your images into that directory on your machine. \"home\" means \"~\""
   ]
  },
  {
   "cell_type": "code",
   "execution_count": null,
   "id": "6ce35e23",
   "metadata": {},
   "outputs": [],
   "source": [
    "from pyrit.common import default_values\n",
    "import pathlib\n",
    "import json\n",
    "import os\n",
    "\n",
    "from pyrit.prompt_target.custom_image_to_text_target import CustomImageToTextTarget\n",
    "from pyrit.prompt_normalizer.normalizer_request import NormalizerRequestPiece\n",
    "from pyrit.prompt_normalizer.normalizer_request import NormalizerRequest\n",
    "from pyrit.orchestrator import PromptSendingOrchestrator\n",
    "\n",
    "default_values.load_default_env()\n",
    "\n",
    "custom_image_to_text_target = CustomImageToTextTarget()\n",
    "\n",
    "folder_path = pathlib.Path.home() / \"git\" / \"custom_image_to_text\"\n",
    "data = [\n",
    "    [\n",
    "        {\n",
    "            \"prompt_text\": str(folder_path / filename),\n",
    "            \"prompt_data_type\": \"image_path\"\n",
    "        }\n",
    "    ]\n",
    "    for filename in os.listdir(folder_path)\n",
    "]\n",
    "print(json.dumps(data, indent=4))"
   ]
  },
  {
   "cell_type": "code",
   "execution_count": null,
   "id": "0605708e",
   "metadata": {},
   "outputs": [],
   "source": [
    "\n",
    "normalizer_requests = []\n",
    "\n",
    "for piece_data in data:\n",
    "    request_pieces = []\n",
    "\n",
    "    for item in piece_data:\n",
    "        prompt_text = item.get(\"prompt_text\", \"\")\n",
    "        prompt_data_type = item.get(\"prompt_data_type\", \"\")\n",
    "        converters = []\n",
    "        request_piece = NormalizerRequestPiece(\n",
    "            prompt_text=prompt_text,\n",
    "            prompt_data_type=prompt_data_type,\n",
    "            prompt_converters=converters\n",
    "        )\n",
    "        request_pieces.append(request_piece)\n",
    "\n",
    "    normalizer_request = NormalizerRequest(request_pieces)\n",
    "    normalizer_requests.append(normalizer_request)"
   ]
  },
  {
   "cell_type": "code",
   "execution_count": null,
   "id": "35406615",
   "metadata": {},
   "outputs": [],
   "source": [
    "import time\n",
    "\n",
    "with PromptSendingOrchestrator(prompt_target=custom_image_to_text_target) as orchestrator:\n",
    "\n",
    "    await orchestrator.send_normalizer_requests_async(prompt_request_list=normalizer_requests)\n",
    "\n",
    "    memory_entries = orchestrator.get_memory()\n",
    "\n",
    "    # write responses to CSV file\n",
    "    orchestrator._memory.exporter.export_to_csv(\n",
    "        data=[e for e in memory_entries if e.role == \"assistant\"],\n",
    "        file_path=f\"responses-{str(int(time.time()))}.csv\")\n",
    "\n",
    "    # print requests & responses to console\n",
    "    for entry in memory_entries:\n",
    "        print(entry)"
   ]
  },
  {
   "cell_type": "code",
   "execution_count": null,
   "id": "f075f297",
   "metadata": {},
   "outputs": [],
   "source": []
  }
 ],
 "metadata": {
  "jupytext": {
   "cell_metadata_filter": "-all"
  },
  "kernelspec": {
   "display_name": "pyrit-dev",
   "language": "python",
   "name": "python3"
  },
  "language_info": {
   "codemirror_mode": {
    "name": "ipython",
    "version": 3
   },
   "file_extension": ".py",
   "mimetype": "text/x-python",
   "name": "python",
   "nbconvert_exporter": "python",
   "pygments_lexer": "ipython3",
   "version": "3.10.14"
  }
 },
 "nbformat": 4,
 "nbformat_minor": 5
}
